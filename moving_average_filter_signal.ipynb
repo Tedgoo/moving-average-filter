{
 "cells": [
  {
   "cell_type": "markdown",
   "id": "ff4cfa21",
   "metadata": {},
   "source": [
    "## 1. 파이썬 모듈 불러오기"
   ]
  },
  {
   "cell_type": "code",
   "execution_count": 33,
   "id": "44efd0eb",
   "metadata": {},
   "outputs": [],
   "source": [
    "#Python 모듈\n",
    "import os \n",
    "from IPython.display import display, HTML\n",
    "import warnings\n",
    "warnings.filterwarnings(action='ignore')\n",
    "\n",
    "\n",
    "# 데이터 전처리 모듈\n",
    "import numpy as np\n",
    "import pandas as pd\n",
    "from sklearn.preprocessing import StandardScaler\n",
    "from tqdm import tqdm\n",
    "from scipy import io\n",
    "\n",
    "\n",
    "# 시각화 모듈\n",
    "import seaborn as sns \n",
    "import matplotlib.pyplot as plt\n",
    "import matplotlib.patches as mpatches\n",
    "import matplotlib\n",
    "import mplcursors\n",
    "from matplotlib.colors import ListedColormap\n",
    "matplotlib.rcParams['axes.unicode_minus'] = False\n",
    "%matplotlib inline\n",
    "\n",
    "#한글 폰트 설정 모듈\n",
    "plt.rc('font', family='Malgun Gothic')\n",
    "\n",
    "\n",
    "# 이미지 파일 불러오기 모듈\n",
    "from IPython.display import Image"
   ]
  },
  {
   "cell_type": "markdown",
   "id": "b6a541d0",
   "metadata": {},
   "source": [
    "## 2. 데이터 경로 설정하기(/ 사용필수)"
   ]
  },
  {
   "cell_type": "code",
   "execution_count": 34,
   "id": "a1b995cf",
   "metadata": {},
   "outputs": [
    {
     "name": "stdout",
     "output_type": "stream",
     "text": [
      "C:\\Users\\taeyu\n"
     ]
    }
   ],
   "source": [
    "os.chdir(\"C:/Users/taeyu\") #데이터 경로\n",
    "print(os.getcwd())"
   ]
  },
  {
   "cell_type": "markdown",
   "id": "0dd2ae40",
   "metadata": {},
   "source": [
    "## 3. csv 파일 불러오기(Tektrnoix MSO54 모델 설정)"
   ]
  },
  {
   "cell_type": "code",
   "execution_count": 35,
   "id": "eba84443",
   "metadata": {},
   "outputs": [],
   "source": [
    "df = pd.read_csv('current_data.csv', header=None, index_col = False, skiprows=12) # Dataframe 데이터 , skiprows=22, 변경"
   ]
  },
  {
   "cell_type": "code",
   "execution_count": 36,
   "id": "379b0979",
   "metadata": {},
   "outputs": [
    {
     "data": {
      "text/html": [
       "<div>\n",
       "<style scoped>\n",
       "    .dataframe tbody tr th:only-of-type {\n",
       "        vertical-align: middle;\n",
       "    }\n",
       "\n",
       "    .dataframe tbody tr th {\n",
       "        vertical-align: top;\n",
       "    }\n",
       "\n",
       "    .dataframe thead th {\n",
       "        text-align: right;\n",
       "    }\n",
       "</style>\n",
       "<table border=\"1\" class=\"dataframe\">\n",
       "  <thead>\n",
       "    <tr style=\"text-align: right;\">\n",
       "      <th></th>\n",
       "      <th>0</th>\n",
       "      <th>1</th>\n",
       "      <th>2</th>\n",
       "      <th>3</th>\n",
       "      <th>4</th>\n",
       "    </tr>\n",
       "  </thead>\n",
       "  <tbody>\n",
       "    <tr>\n",
       "      <th>0</th>\n",
       "      <td>-1.999996</td>\n",
       "      <td>0.004094</td>\n",
       "      <td>0.003750</td>\n",
       "      <td>-0.000041</td>\n",
       "      <td>-0.285938</td>\n",
       "    </tr>\n",
       "    <tr>\n",
       "      <th>1</th>\n",
       "      <td>-1.999986</td>\n",
       "      <td>0.005234</td>\n",
       "      <td>0.007500</td>\n",
       "      <td>0.000056</td>\n",
       "      <td>-0.300000</td>\n",
       "    </tr>\n",
       "    <tr>\n",
       "      <th>2</th>\n",
       "      <td>-1.999976</td>\n",
       "      <td>0.000891</td>\n",
       "      <td>0.000547</td>\n",
       "      <td>-0.000031</td>\n",
       "      <td>-0.296875</td>\n",
       "    </tr>\n",
       "    <tr>\n",
       "      <th>3</th>\n",
       "      <td>-1.999966</td>\n",
       "      <td>0.003000</td>\n",
       "      <td>0.004531</td>\n",
       "      <td>0.000256</td>\n",
       "      <td>-0.326562</td>\n",
       "    </tr>\n",
       "    <tr>\n",
       "      <th>4</th>\n",
       "      <td>-1.999956</td>\n",
       "      <td>0.004797</td>\n",
       "      <td>-0.001563</td>\n",
       "      <td>0.000287</td>\n",
       "      <td>-0.268750</td>\n",
       "    </tr>\n",
       "  </tbody>\n",
       "</table>\n",
       "</div>"
      ],
      "text/plain": [
       "          0         1         2         3         4\n",
       "0 -1.999996  0.004094  0.003750 -0.000041 -0.285938\n",
       "1 -1.999986  0.005234  0.007500  0.000056 -0.300000\n",
       "2 -1.999976  0.000891  0.000547 -0.000031 -0.296875\n",
       "3 -1.999966  0.003000  0.004531  0.000256 -0.326562\n",
       "4 -1.999956  0.004797 -0.001563  0.000287 -0.268750"
      ]
     },
     "execution_count": 36,
     "metadata": {},
     "output_type": "execute_result"
    }
   ],
   "source": [
    "df.head()"
   ]
  },
  {
   "cell_type": "markdown",
   "id": "3591c24d",
   "metadata": {},
   "source": [
    "## 4. 데이터 정보(Raw_data)"
   ]
  },
  {
   "cell_type": "code",
   "execution_count": 37,
   "id": "a10a4dee",
   "metadata": {
    "scrolled": true
   },
   "outputs": [
    {
     "name": "stdout",
     "output_type": "stream",
     "text": [
      "데이터 개수는 : 400000\n",
      "Samling time : 9.999999999843467e-06\n",
      "Samling Frequency [MHz] : 0.10000000000156531\n"
     ]
    }
   ],
   "source": [
    "n_samples = len(df[1])\n",
    "print('데이터 개수는 :',n_samples)\n",
    "\n",
    "dt = df.iloc[4,0] - df.iloc[3,0]\n",
    "print('Samling time :',dt)\n",
    "\n",
    "time_f= (1/dt)*10**-6\n",
    "print('Samling Frequency [MHz] :',time_f)"
   ]
  },
  {
   "cell_type": "markdown",
   "id": "36c0d1f2",
   "metadata": {},
   "source": [
    "## 5. 데이터 형변환(DataFrame -> nparray)"
   ]
  },
  {
   "cell_type": "code",
   "execution_count": 38,
   "id": "fa1d7a88",
   "metadata": {},
   "outputs": [],
   "source": [
    "data = df.to_numpy()"
   ]
  },
  {
   "cell_type": "markdown",
   "id": "7d9b6f35",
   "metadata": {},
   "source": [
    "## 6. Time domain 시각화"
   ]
  },
  {
   "cell_type": "code",
   "execution_count": 44,
   "id": "0a9b1d10",
   "metadata": {},
   "outputs": [
    {
     "data": {
      "image/png": "[encoded data removed]",
      "text/plain": [
       "<Figure size 576x576 with 1 Axes>"
      ]
     },
     "metadata": {
      "needs_background": "light"
     },
     "output_type": "display_data"
    }
   ],
   "source": [
    "X = data[:,0]\n",
    "Y = data[:,1]\n",
    "\n",
    "plt.figure(figsize=(8,8))\n",
    "plt.plot(X,Y,'r', label='Y1')\n",
    "plt.xlabel(\"Time [s]\", fontsize=25)\n",
    "plt.ylabel(\"Voltage [V]\", fontsize=25)\n",
    "plt.xticks(fontsize=18)\n",
    "plt.yticks(fontsize=18)\n",
    "plt.legend(fontsize = 18)\n",
    "plt.grid()"
   ]
  },
  {
   "cell_type": "markdown",
   "id": "7b9f5571",
   "metadata": {},
   "source": [
    "## 7. Noise 제거를 위한 Moving average filter 설계"
   ]
  },
  {
   "cell_type": "code",
   "execution_count": 45,
   "id": "99f3a46f",
   "metadata": {},
   "outputs": [
    {
     "name": "stdout",
     "output_type": "stream",
     "text": [
      "(399901,)\n",
      "(399901,)\n"
     ]
    }
   ],
   "source": [
    "def movingaverage(values,window):\n",
    "    weights = np.repeat(1.0,window)/window\n",
    "    smas = np.convolve(values, weights, 'valid')\n",
    "    return smas\n",
    "\n",
    "MVF_Y1 = movingaverage(Y1,100) # filter size = 100 \n",
    "print(MVF_Y1.shape)\n",
    "MVF_X1 = data[99:,0]\n",
    "\n",
    "print(MVF_X1.shape)\n",
    "\n"
   ]
  },
  {
   "cell_type": "code",
   "execution_count": 46,
   "id": "1b86b9c3",
   "metadata": {},
   "outputs": [
    {
     "data": {
      "image/png": "[encoded data removed]",
      "text/plain": [
       "<Figure size 576x576 with 1 Axes>"
      ]
     },
     "metadata": {
      "needs_background": "light"
     },
     "output_type": "display_data"
    }
   ],
   "source": [
    "plt.figure(figsize=(8,8))\n",
    "plt.plot(X,Y1,'r', label='Y1')\n",
    "plt.plot(MVF_X1,MVF_Y1,'b', label='Moving Average Filter Y1(Window 100)')\n",
    "plt.xlabel(\"Time [s]\", fontsize=25)\n",
    "plt.ylabel(\"Voltage [V]\", fontsize=25)\n",
    "plt.xticks(fontsize=18)\n",
    "plt.yticks(fontsize=18)\n",
    "plt.legend(fontsize = 13)\n",
    "\n",
    "plt.grid()"
   ]
  },
  {
   "cell_type": "code",
   "execution_count": null,
   "id": "0728d844",
   "metadata": {},
   "outputs": [],
   "source": []
  },
  {
   "cell_type": "code",
   "execution_count": null,
   "id": "2f9dd041",
   "metadata": {},
   "outputs": [],
   "source": []
  },
  {
   "cell_type": "code",
   "execution_count": null,
   "id": "dc956c42",
   "metadata": {},
   "outputs": [],
   "source": []
  },
  {
   "cell_type": "code",
   "execution_count": null,
   "id": "e5a651ee",
   "metadata": {},
   "outputs": [],
   "source": []
  },
  {
   "cell_type": "code",
   "execution_count": null,
   "id": "33295b0c",
   "metadata": {},
   "outputs": [],
   "source": []
  }
 ],
 "metadata": {
  "kernelspec": {
   "display_name": "Python 3 (ipykernel)",
   "language": "python",
   "name": "python3"
  },
  "language_info": {
   "codemirror_mode": {
    "name": "ipython",
    "version": 3
   },
   "file_extension": ".py",
   "mimetype": "text/x-python",
   "name": "python",
   "nbconvert_exporter": "python",
   "pygments_lexer": "ipython3",
   "version": "3.9.7"
  }
 },
 "nbformat": 4,
 "nbformat_minor": 5
}
